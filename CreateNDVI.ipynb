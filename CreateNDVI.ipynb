{
 "cells": [
  {
   "cell_type": "markdown",
   "id": "861a8bc9",
   "metadata": {},
   "source": [
    "# NDVI creation\n",
    "This script loads landsat images (tifs) from a local source (they need to already be downloaded to your own device) and creates NDVI images from them.\n",
    "\n",
    "Additionally, you will need to download an ownership and fire area map from the github page. Both of these files are located in the **DouglasFireTiffs** folder.\n",
    "- ***DF_area.tif***\n",
    "- ***DF_ownership.tif***\n"
   ]
  },
  {
   "cell_type": "code",
   "execution_count": 1,
   "id": "1b9c0f70",
   "metadata": {},
   "outputs": [],
   "source": [
    "# Import packages\n",
    "from osgeo import gdal\n",
    "import os\n",
    "import glob\n",
    "\n",
    "import matplotlib.pyplot as plt\n",
    "#from mpl_toolkits.axes_grid1 import make_axes_locatabl\n",
    "import numpy as np\n",
    "import rasterio\n",
    "import xarray\n",
    "import rioxarray\n",
    "import datetime"
   ]
  },
  {
   "cell_type": "markdown",
   "id": "bbb58ecc",
   "metadata": {},
   "source": [
    "## Define paths to data\n",
    "Below you need to define local paths to your folders where landsat images and ownership and area masks are located.\n",
    "\n",
    "We suggest you store the landsat images not in your local github clone folder."
   ]
  },
  {
   "cell_type": "code",
   "execution_count": 2,
   "id": "771cf369-67dc-42ab-b10d-4a63c81337f8",
   "metadata": {},
   "outputs": [],
   "source": [
    "# Define filepaths\n",
    "filepath7 = 'E:/GitHub/GEOG_L7/'\n",
    "filepath8 = 'E:/GitHub/GEOG_L8/'\n",
    "\n",
    "filepath_DF_mask = 'E:/GitHub/PostFire_NDVI/DouglasFireTiffs/DF_area.tif'\n",
    "filepath_DF_ownership = 'E:/GitHub/PostFire_NDVI/DouglasFireTiffs/DF_ownership.tif'\n",
    "\n",
    "# create rasters from DF_area.tif and DF_ownership\n",
    "df_mask = rioxarray.open_rasterio(filepath_DF_mask)\n",
    "df_ownership = rioxarray.open_rasterio(filepath_DF_ownership)\n",
    "\n",
    "# Define list of Landsat bands\n",
    "files7 = sorted(glob.glob(filepath7 + '*.tif'))\n",
    "files8 = sorted(glob.glob(filepath8 + '*.tif'))"
   ]
  },
  {
   "cell_type": "markdown",
   "id": "55b5a8d9",
   "metadata": {},
   "source": [
    "## Define functions to process and create NDVI for landsat 7 and landsat 8\n",
    "- landat7 uses bands 4 and 3 to calculate NDVI\n",
    "- landsat8 uses bands 4 and 5 to calculate NDVI\n",
    "- set folder path in EACH function to where you will store ndvi images (make this the same folder). Again we suggest this is not in your local github cloned folder."
   ]
  },
  {
   "cell_type": "code",
   "execution_count": 3,
   "id": "b7b1ca7e-1948-4ac1-9f34-270d73267d2a",
   "metadata": {},
   "outputs": [],
   "source": [
    "def process_ndvi_7(file):\n",
    "    #strip name from filepath for later\n",
    "    name = file  # may have to use the following depending on your computer  - file.split(\"/\")[-1]\n",
    "    savename = file[-24:]  # if you uncommment out above line can comment this out\n",
    "    xds = rioxarray.open_rasterio(file)\n",
    "    \n",
    "    #select band 4 and 3 from landsat 7 tif\n",
    "    band4 = xds.sel(band=1)\n",
    "    band3 = xds.sel(band=2)\n",
    "    #band2 = xds.sel(band=3)\n",
    "    \n",
    "    # Compute NDVI\n",
    "    ndvi = np.divide((band4 - band3), (band4 + band3))\n",
    "    \n",
    "    # clip to shape of Douglas Fire\n",
    "    clipped_ndvi = ndvi.where(df_mask == 1)\n",
    "    clipped_ndvi = clipped_ndvi.transpose('band', 'y', 'x')\n",
    "    \n",
    "    clipped_ndvi.rio.to_raster(\"E:/GitHub/landsat_ndvi/ndvi_\"+savename)\n",
    "    \n",
    "def process_ndvi_8(file):\n",
    "    name = file  # may have to use the following depending on your computer  - file.split(\"/\")[-1]\n",
    "    savename = file[-24:]  # if you uncommment out above line can comment this out\n",
    "    xds = rioxarray.open_rasterio(file)\n",
    "    \n",
    "    band5 = xds.sel(band=1)\n",
    "    band4 = xds.sel(band=2)\n",
    "    #band3 = xds.sel(band=3)\n",
    "    \n",
    "    # Compute NDVI\n",
    "    #p.seterr(divide='ignore', invalid='ignore')\n",
    "    ndvi = np.divide((band5 - band4), (band5 + band4))\n",
    "                   \n",
    "    # clip to shape of Douglas Fire\n",
    "    clipped_ndvi = ndvi.where(df_mask == 1)\n",
    "    clipped_ndvi = clipped_ndvi.transpose('band', 'y', 'x')               \n",
    "    \n",
    "    clipped_ndvi.rio.to_raster(\"E:/GitHub/landsat_ndvi/ndvi_\"+savename)"
   ]
  },
  {
   "cell_type": "markdown",
   "id": "28bd4be1",
   "metadata": {},
   "source": [
    "### This next line will take long to run!!!\n",
    "- here you will actually process all the tif images in your landsat folders"
   ]
  },
  {
   "cell_type": "code",
   "execution_count": 4,
   "id": "cd7269cb-67aa-43d0-a057-4ed8f9597047",
   "metadata": {},
   "outputs": [],
   "source": [
    "for file in files7:\n",
    "    process_ndvi_7(file)\n",
    "\n",
    "for file in files8:\n",
    "    process_ndvi_8(file)"
   ]
  },
  {
   "cell_type": "code",
   "execution_count": null,
   "id": "2d1c5c97",
   "metadata": {},
   "outputs": [],
   "source": []
  }
 ],
 "metadata": {
  "kernelspec": {
   "display_name": "Python 3 (ipykernel)",
   "language": "python",
   "name": "python3"
  },
  "language_info": {
   "codemirror_mode": {
    "name": "ipython",
    "version": 3
   },
   "file_extension": ".py",
   "mimetype": "text/x-python",
   "name": "python",
   "nbconvert_exporter": "python",
   "pygments_lexer": "ipython3",
   "version": "3.8.12"
  }
 },
 "nbformat": 4,
 "nbformat_minor": 5
}
