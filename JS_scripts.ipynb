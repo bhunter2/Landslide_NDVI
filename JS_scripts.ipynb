{
 "cells": [
  {
   "cell_type": "code",
   "execution_count": 1,
   "id": "157092c5-9131-4b2c-8445-5fb2c481a2b6",
   "metadata": {},
   "outputs": [],
   "source": [
    "# Import packages\n",
    "from osgeo import gdal\n",
    "import os\n",
    "import glob\n",
    "\n",
    "import matplotlib.pyplot as plt\n",
    "from mpl_toolkits.axes_grid1 import make_axes_locatable\n",
    "\n",
    "import numpy as np\n",
    "import rasterio\n",
    "import xarray"
   ]
  },
  {
   "cell_type": "code",
   "execution_count": null,
   "id": "b5582f36-9942-4a45-9a40-9fa2f7cc1eb0",
   "metadata": {},
   "outputs": [],
   "source": []
  },
  {
   "cell_type": "code",
   "execution_count": null,
   "id": "b7b1ca7e-1948-4ac1-9f34-270d73267d2a",
   "metadata": {},
   "outputs": [],
   "source": [
    "def clip_ndvi(input_tif):\n",
    "    ds = gdal.Open(input_tif)\n",
    "    # projWin = [<ulx> <uly> <lrx> <lry>]\n",
    "    ds = gdal.Translate(('clipped_'+input_tif), ds, projWin = [-123.7469, 43.0117, -122.7509, 42.5235])\n",
    "    ds = None\n",
    "    \n",
    "def process_ndvi(input_tif):\n",
    "    # Define filepath\n",
    "    filepath = '/home/johnny/Dropbox (University of Oregon)/Teaching/geospatial-data-science/data/lab4/'\n",
    "\n",
    "    # Define list of Landsat bands\n",
    "    files = sorted(glob.glob(filepath + 'landsat/*.tif'))\n",
    "    print(files)\n",
    "    \n",
    "    # Open all bands in a loop\n",
    "    list_bands = []\n",
    "    for file in files:\n",
    "        # Read band\n",
    "        src = rasterio.open(file)\n",
    "        band = src.read(1)\n",
    "    \n",
    "        # Append to list\n",
    "        list_bands.append(band)\n",
    "\n",
    "    # Convert from list of arrays to n-dimensional array\n",
    "    all_bands = np.dstack(list_bands)\n",
    "    \n",
    "    # Compute NDWI\n",
    "    np.seterr(divide='ignore', invalid='ignore')\n",
    "    ndvi = np.divide((all_bands[:,:,4].astype(float) - all_bands[:,:,3].astype(float)), \\\n",
    "                 (all_bands[:,:,4].astype(float) + all_bands[:,:,3].astype(float)))\n",
    "    "
   ]
  }
 ],
 "metadata": {
  "kernelspec": {
   "display_name": "Python 3 (ipykernel)",
   "language": "python",
   "name": "python3"
  },
  "language_info": {
   "codemirror_mode": {
    "name": "ipython",
    "version": 3
   },
   "file_extension": ".py",
   "mimetype": "text/x-python",
   "name": "python",
   "nbconvert_exporter": "python",
   "pygments_lexer": "ipython3",
   "version": "3.8.12"
  }
 },
 "nbformat": 4,
 "nbformat_minor": 5
}
