{
 "cells": [
  {
   "cell_type": "code",
   "execution_count": 2,
   "id": "157092c5-9131-4b2c-8445-5fb2c481a2b6",
   "metadata": {},
   "outputs": [],
   "source": [
    "# Import packages\n",
    "from osgeo import gdal\n",
    "import os\n",
    "import glob\n",
    "\n",
    "import matplotlib.pyplot as plt\n",
    "#from mpl_toolkits.axes_grid1 import make_axes_locatabl\n",
    "import numpy as np\n",
    "import rasterio\n",
    "import xarray\n",
    "import rioxarray"
   ]
  },
  {
   "cell_type": "code",
   "execution_count": 110,
   "id": "771cf369-67dc-42ab-b10d-4a63c81337f8",
   "metadata": {},
   "outputs": [],
   "source": [
    "# Define filepaths\n",
    "filepath7 = '/Users/jsheppar/Downloads/landsat7/'\n",
    "filepath8 = '/Users/jsheppar/Downloads/landsat8/'\n",
    "filepath_DF_mask = '/Users/jsheppar/Documents/GitHub/Landslide_NDVI/DF_area1.tif.aux/DF_area1_32610.tif'\n",
    "filepath_DF_ownership = '/Users/jsheppar/Documents/GitHub/Landslide_NDVI/Ownership_DF/Ownership_DF_32610.tif'\n",
    "\n",
    "# Define list of Landsat bands\n",
    "files7 = sorted(glob.glob(filepath7 + '*.tif'))\n",
    "files8 = sorted(glob.glob(filepath8 + '*.tif'))"
   ]
  },
  {
   "cell_type": "code",
   "execution_count": 107,
   "id": "b7b1ca7e-1948-4ac1-9f34-270d73267d2a",
   "metadata": {},
   "outputs": [],
   "source": [
    "def process_ndvi_7(files):\n",
    "    #strip name from filepath for later\n",
    "    name = files.split(\"/\")[-1]\n",
    "    xds = rioxarray.open_rasterio(files)\n",
    "    \n",
    "    #select band 4 and 3 from landsat 7 tif\n",
    "    band4 = xds.sel(band=1)\n",
    "    band3 = xds.sel(band=2)\n",
    "    #band2 = xds.sel(band=3)\n",
    "    \n",
    "    # Compute NDVI\n",
    "    #p.seterr(divide='ignore', invalid='ignore')\n",
    "    ndvi = np.divide((band4 - band3), (band4 + band3))\n",
    "    print(ndvi)\n",
    "    \n",
    "    # clip to shape of Douglas Fire by making x and y coordinates match AND the mask = 1\n",
    "    clipped_ndvi = ndvi.where((ndvi.x == df_mask.x) and (ndvi.y == df_mask.y) and (df_mask == 1))\n",
    "    \n",
    "    print(clipped_ndvi) # seems to have no data and also loses the x coordinate. y coordinate remains. Why?\n",
    "    \n",
    "    clipped_ndvi.rio.to_raster(\"/Users/jsheppar/Downloads/landsat_ndvi/ndvi2_\"+name) # Unable to determine bounds from coordinates.\n",
    "    \n",
    "def process_ndvi_8(files):\n",
    "    name = files.split(\"/\")[-1]\n",
    "    xds = rioxarray.open_rasterio(files)\n",
    "    \n",
    "    band5 = xds.sel(band=1)\n",
    "    band4 = xds.sel(band=2)\n",
    "    #band3 = xds.sel(band=3)\n",
    "    \n",
    "    # Compute NDVI\n",
    "    #p.seterr(divide='ignore', invalid='ignore')\n",
    "    ndvi = np.divide((band5 - band4), (band5 + band4))\n",
    "    \n",
    "    ndvi.rio.to_raster(\"/Users/jsheppar/Downloads/landsat_ndvi/ndvi_\"+name)"
   ]
  },
  {
   "cell_type": "code",
   "execution_count": 108,
   "id": "6b71f885-2939-41ce-9b3b-ea4ac041a70b",
   "metadata": {},
   "outputs": [
    {
     "name": "stdout",
     "output_type": "stream",
     "text": [
      "<xarray.DataArray (y: 3895, x: 2361)>\n",
      "array([[nan, nan, nan, ..., nan, nan, nan],\n",
      "       [nan, nan, nan, ..., nan, nan, nan],\n",
      "       [nan, nan, nan, ..., nan, nan, nan],\n",
      "       ...,\n",
      "       [nan, nan, nan, ..., nan, nan, nan],\n",
      "       [nan, nan, nan, ..., nan, nan, nan],\n",
      "       [nan, nan, nan, ..., nan, nan, nan]], dtype=float32)\n",
      "Coordinates:\n",
      "  * x            (x) float64 4.416e+05 4.417e+05 ... 4.652e+05 4.652e+05\n",
      "  * y            (y) float64 4.76e+06 4.76e+06 4.76e+06 ... 4.721e+06 4.721e+06\n",
      "    spatial_ref  int64 0\n",
      "<xarray.DataArray (y: 3895, x: 0)>\n",
      "array([], shape=(3895, 0), dtype=float32)\n",
      "Coordinates:\n",
      "  * x            (x) float64 \n",
      "  * y            (y) float64 4.76e+06 4.76e+06 4.76e+06 ... 4.721e+06 4.721e+06\n",
      "    spatial_ref  int64 0\n"
     ]
    },
    {
     "ename": "NoDataInBounds",
     "evalue": "Unable to determine bounds from coordinates.",
     "output_type": "error",
     "traceback": [
      "\u001b[0;31m---------------------------------------------------------------------------\u001b[0m",
      "\u001b[0;31mNoDataInBounds\u001b[0m                            Traceback (most recent call last)",
      "Input \u001b[0;32mIn [108]\u001b[0m, in \u001b[0;36m<module>\u001b[0;34m\u001b[0m\n\u001b[1;32m      1\u001b[0m df_mask \u001b[38;5;241m=\u001b[39m rioxarray\u001b[38;5;241m.\u001b[39mopen_rasterio(filepath_DF_mask)\n\u001b[1;32m      2\u001b[0m df_ownership \u001b[38;5;241m=\u001b[39m rioxarray\u001b[38;5;241m.\u001b[39mopen_rasterio(filepath_DF_ownership)\n\u001b[0;32m----> 4\u001b[0m \u001b[43mprocess_ndvi_7\u001b[49m\u001b[43m(\u001b[49m\u001b[43mfiles7\u001b[49m\u001b[43m[\u001b[49m\u001b[38;5;241;43m0\u001b[39;49m\u001b[43m]\u001b[49m\u001b[43m)\u001b[49m\n",
      "Input \u001b[0;32mIn [107]\u001b[0m, in \u001b[0;36mprocess_ndvi_7\u001b[0;34m(files)\u001b[0m\n\u001b[1;32m     17\u001b[0m clipped_ndvi \u001b[38;5;241m=\u001b[39m ndvi\u001b[38;5;241m.\u001b[39mwhere((ndvi\u001b[38;5;241m.\u001b[39mx \u001b[38;5;241m==\u001b[39m df_mask\u001b[38;5;241m.\u001b[39mx) \u001b[38;5;129;01mand\u001b[39;00m (ndvi\u001b[38;5;241m.\u001b[39my \u001b[38;5;241m==\u001b[39m df_mask\u001b[38;5;241m.\u001b[39my) \u001b[38;5;129;01mand\u001b[39;00m (df_mask \u001b[38;5;241m==\u001b[39m \u001b[38;5;241m1\u001b[39m))\n\u001b[1;32m     19\u001b[0m \u001b[38;5;28mprint\u001b[39m(clipped_ndvi) \u001b[38;5;66;03m# seems to have no data and also loses the x coordinate. y coordinate remains. Why?\u001b[39;00m\n\u001b[0;32m---> 21\u001b[0m \u001b[43mclipped_ndvi\u001b[49m\u001b[38;5;241;43m.\u001b[39;49m\u001b[43mrio\u001b[49m\u001b[38;5;241;43m.\u001b[39;49m\u001b[43mto_raster\u001b[49m\u001b[43m(\u001b[49m\u001b[38;5;124;43m\"\u001b[39;49m\u001b[38;5;124;43m/Users/jsheppar/Downloads/landsat_ndvi/ndvi2_\u001b[39;49m\u001b[38;5;124;43m\"\u001b[39;49m\u001b[38;5;241;43m+\u001b[39;49m\u001b[43mname\u001b[49m\u001b[43m)\u001b[49m\n",
      "File \u001b[0;32m/opt/anaconda3/envs/landslide_ndvi/lib/python3.8/site-packages/rioxarray/raster_array.py:1025\u001b[0m, in \u001b[0;36mRasterArray.to_raster\u001b[0;34m(self, raster_path, driver, dtype, tags, windowed, recalc_transform, lock, compute, **profile_kwargs)\u001b[0m\n\u001b[1;32m    997\u001b[0m out_profile \u001b[38;5;241m=\u001b[39m {\n\u001b[1;32m    998\u001b[0m     key: value\n\u001b[1;32m    999\u001b[0m     \u001b[38;5;28;01mfor\u001b[39;00m key, value \u001b[38;5;129;01min\u001b[39;00m out_profile\u001b[38;5;241m.\u001b[39mitems()\n\u001b[0;32m   (...)\u001b[0m\n\u001b[1;32m   1010\u001b[0m     )\n\u001b[1;32m   1011\u001b[0m }\n\u001b[1;32m   1012\u001b[0m rio_nodata \u001b[38;5;241m=\u001b[39m (\n\u001b[1;32m   1013\u001b[0m     \u001b[38;5;28mself\u001b[39m\u001b[38;5;241m.\u001b[39mencoded_nodata \u001b[38;5;28;01mif\u001b[39;00m \u001b[38;5;28mself\u001b[39m\u001b[38;5;241m.\u001b[39mencoded_nodata \u001b[38;5;129;01mis\u001b[39;00m \u001b[38;5;129;01mnot\u001b[39;00m \u001b[38;5;28;01mNone\u001b[39;00m \u001b[38;5;28;01melse\u001b[39;00m \u001b[38;5;28mself\u001b[39m\u001b[38;5;241m.\u001b[39mnodata\n\u001b[1;32m   1014\u001b[0m )\n\u001b[1;32m   1016\u001b[0m \u001b[38;5;28;01mreturn\u001b[39;00m RasterioWriter(raster_path\u001b[38;5;241m=\u001b[39mraster_path)\u001b[38;5;241m.\u001b[39mto_raster(\n\u001b[1;32m   1017\u001b[0m     xarray_dataarray\u001b[38;5;241m=\u001b[39m\u001b[38;5;28mself\u001b[39m\u001b[38;5;241m.\u001b[39m_obj,\n\u001b[1;32m   1018\u001b[0m     tags\u001b[38;5;241m=\u001b[39mtags,\n\u001b[1;32m   1019\u001b[0m     driver\u001b[38;5;241m=\u001b[39mdriver,\n\u001b[1;32m   1020\u001b[0m     height\u001b[38;5;241m=\u001b[39m\u001b[38;5;28mint\u001b[39m(\u001b[38;5;28mself\u001b[39m\u001b[38;5;241m.\u001b[39mheight),\n\u001b[1;32m   1021\u001b[0m     width\u001b[38;5;241m=\u001b[39m\u001b[38;5;28mint\u001b[39m(\u001b[38;5;28mself\u001b[39m\u001b[38;5;241m.\u001b[39mwidth),\n\u001b[1;32m   1022\u001b[0m     count\u001b[38;5;241m=\u001b[39m\u001b[38;5;28mint\u001b[39m(\u001b[38;5;28mself\u001b[39m\u001b[38;5;241m.\u001b[39mcount),\n\u001b[1;32m   1023\u001b[0m     dtype\u001b[38;5;241m=\u001b[39mdtype,\n\u001b[1;32m   1024\u001b[0m     crs\u001b[38;5;241m=\u001b[39m\u001b[38;5;28mself\u001b[39m\u001b[38;5;241m.\u001b[39mcrs,\n\u001b[0;32m-> 1025\u001b[0m     transform\u001b[38;5;241m=\u001b[39m\u001b[38;5;28;43mself\u001b[39;49m\u001b[38;5;241;43m.\u001b[39;49m\u001b[43mtransform\u001b[49m\u001b[43m(\u001b[49m\u001b[43mrecalc\u001b[49m\u001b[38;5;241;43m=\u001b[39;49m\u001b[43mrecalc_transform\u001b[49m\u001b[43m)\u001b[49m,\n\u001b[1;32m   1026\u001b[0m     gcps\u001b[38;5;241m=\u001b[39m\u001b[38;5;28mself\u001b[39m\u001b[38;5;241m.\u001b[39mget_gcps(),\n\u001b[1;32m   1027\u001b[0m     nodata\u001b[38;5;241m=\u001b[39mrio_nodata,\n\u001b[1;32m   1028\u001b[0m     windowed\u001b[38;5;241m=\u001b[39mwindowed,\n\u001b[1;32m   1029\u001b[0m     lock\u001b[38;5;241m=\u001b[39mlock,\n\u001b[1;32m   1030\u001b[0m     compute\u001b[38;5;241m=\u001b[39mcompute,\n\u001b[1;32m   1031\u001b[0m     \u001b[38;5;241m*\u001b[39m\u001b[38;5;241m*\u001b[39mout_profile,\n\u001b[1;32m   1032\u001b[0m )\n",
      "File \u001b[0;32m/opt/anaconda3/envs/landslide_ndvi/lib/python3.8/site-packages/rioxarray/rioxarray.py:592\u001b[0m, in \u001b[0;36mXRasterBase.transform\u001b[0;34m(self, recalc)\u001b[0m\n\u001b[1;32m    589\u001b[0m     \u001b[38;5;28;01mreturn\u001b[39;00m transform\n\u001b[1;32m    591\u001b[0m \u001b[38;5;28;01mtry\u001b[39;00m:\n\u001b[0;32m--> 592\u001b[0m     src_left, _, _, src_top \u001b[38;5;241m=\u001b[39m \u001b[38;5;28;43mself\u001b[39;49m\u001b[38;5;241;43m.\u001b[39;49m\u001b[43mbounds\u001b[49m\u001b[43m(\u001b[49m\u001b[43mrecalc\u001b[49m\u001b[38;5;241;43m=\u001b[39;49m\u001b[43mrecalc\u001b[49m\u001b[43m)\u001b[49m\n\u001b[1;32m    593\u001b[0m     src_resolution_x, src_resolution_y \u001b[38;5;241m=\u001b[39m \u001b[38;5;28mself\u001b[39m\u001b[38;5;241m.\u001b[39mresolution(recalc\u001b[38;5;241m=\u001b[39mrecalc)\n\u001b[1;32m    594\u001b[0m \u001b[38;5;28;01mexcept\u001b[39;00m (DimensionMissingCoordinateError, DimensionError):\n",
      "File \u001b[0;32m/opt/anaconda3/envs/landslide_ndvi/lib/python3.8/site-packages/rioxarray/rioxarray.py:948\u001b[0m, in \u001b[0;36mXRasterBase.bounds\u001b[0;34m(self, recalc)\u001b[0m\n\u001b[1;32m    935\u001b[0m \u001b[38;5;28;01mdef\u001b[39;00m \u001b[38;5;21mbounds\u001b[39m(\u001b[38;5;28mself\u001b[39m, recalc\u001b[38;5;241m=\u001b[39m\u001b[38;5;28;01mFalse\u001b[39;00m):\n\u001b[1;32m    936\u001b[0m     \u001b[38;5;124;03m\"\"\"\u001b[39;00m\n\u001b[1;32m    937\u001b[0m \u001b[38;5;124;03m    Parameters\u001b[39;00m\n\u001b[1;32m    938\u001b[0m \u001b[38;5;124;03m    ----------\u001b[39;00m\n\u001b[0;32m   (...)\u001b[0m\n\u001b[1;32m    946\u001b[0m \u001b[38;5;124;03m        Outermost coordinates of the `xarray.DataArray` | `xarray.Dataset`.\u001b[39;00m\n\u001b[1;32m    947\u001b[0m \u001b[38;5;124;03m    \"\"\"\u001b[39;00m\n\u001b[0;32m--> 948\u001b[0m     resolution_x, resolution_y \u001b[38;5;241m=\u001b[39m \u001b[38;5;28;43mself\u001b[39;49m\u001b[38;5;241;43m.\u001b[39;49m\u001b[43mresolution\u001b[49m\u001b[43m(\u001b[49m\u001b[43mrecalc\u001b[49m\u001b[38;5;241;43m=\u001b[39;49m\u001b[43mrecalc\u001b[49m\u001b[43m)\u001b[49m\n\u001b[1;32m    950\u001b[0m     \u001b[38;5;28;01mtry\u001b[39;00m:\n\u001b[1;32m    951\u001b[0m         \u001b[38;5;66;03m# attempt to get bounds from xarray coordinate values\u001b[39;00m\n\u001b[1;32m    952\u001b[0m         left, bottom, right, top \u001b[38;5;241m=\u001b[39m \u001b[38;5;28mself\u001b[39m\u001b[38;5;241m.\u001b[39m_internal_bounds()\n",
      "File \u001b[0;32m/opt/anaconda3/envs/landslide_ndvi/lib/python3.8/site-packages/rioxarray/rioxarray.py:919\u001b[0m, in \u001b[0;36mXRasterBase.resolution\u001b[0;34m(self, recalc)\u001b[0m\n\u001b[1;32m    916\u001b[0m \u001b[38;5;66;03m# if the coordinates of the spatial dimensions are missing\u001b[39;00m\n\u001b[1;32m    917\u001b[0m \u001b[38;5;66;03m# use the cached transform resolution\u001b[39;00m\n\u001b[1;32m    918\u001b[0m \u001b[38;5;28;01mtry\u001b[39;00m:\n\u001b[0;32m--> 919\u001b[0m     left, bottom, right, top \u001b[38;5;241m=\u001b[39m \u001b[38;5;28;43mself\u001b[39;49m\u001b[38;5;241;43m.\u001b[39;49m\u001b[43m_internal_bounds\u001b[49m\u001b[43m(\u001b[49m\u001b[43m)\u001b[49m\n\u001b[1;32m    920\u001b[0m \u001b[38;5;28;01mexcept\u001b[39;00m DimensionMissingCoordinateError:\n\u001b[1;32m    921\u001b[0m     \u001b[38;5;28;01mif\u001b[39;00m transform \u001b[38;5;129;01mis\u001b[39;00m \u001b[38;5;28;01mNone\u001b[39;00m:\n",
      "File \u001b[0;32m/opt/anaconda3/envs/landslide_ndvi/lib/python3.8/site-packages/rioxarray/rioxarray.py:887\u001b[0m, in \u001b[0;36mXRasterBase._internal_bounds\u001b[0;34m(self)\u001b[0m\n\u001b[1;32m    885\u001b[0m     bottom \u001b[38;5;241m=\u001b[39m \u001b[38;5;28mfloat\u001b[39m(\u001b[38;5;28mself\u001b[39m\u001b[38;5;241m.\u001b[39m_obj[\u001b[38;5;28mself\u001b[39m\u001b[38;5;241m.\u001b[39my_dim][\u001b[38;5;241m-\u001b[39m\u001b[38;5;241m1\u001b[39m])\n\u001b[1;32m    886\u001b[0m \u001b[38;5;28;01mexcept\u001b[39;00m \u001b[38;5;167;01mIndexError\u001b[39;00m:\n\u001b[0;32m--> 887\u001b[0m     \u001b[38;5;28;01mraise\u001b[39;00m NoDataInBounds(\n\u001b[1;32m    888\u001b[0m         \u001b[38;5;124m\"\u001b[39m\u001b[38;5;124mUnable to determine bounds from coordinates.\u001b[39m\u001b[38;5;124m\"\u001b[39m\n\u001b[1;32m    889\u001b[0m         \u001b[38;5;124mf\u001b[39m\u001b[38;5;124m\"\u001b[39m\u001b[38;5;132;01m{\u001b[39;00m_get_data_var_message(\u001b[38;5;28mself\u001b[39m\u001b[38;5;241m.\u001b[39m_obj)\u001b[38;5;132;01m}\u001b[39;00m\u001b[38;5;124m\"\u001b[39m\n\u001b[1;32m    890\u001b[0m     ) \u001b[38;5;28;01mfrom\u001b[39;00m \u001b[38;5;28mNone\u001b[39m\n\u001b[1;32m    891\u001b[0m \u001b[38;5;28;01mreturn\u001b[39;00m left, bottom, right, top\n",
      "\u001b[0;31mNoDataInBounds\u001b[0m: Unable to determine bounds from coordinates."
     ]
    }
   ],
   "source": [
    "df_mask = rioxarray.open_rasterio(filepath_DF_mask)\n",
    "df_ownership = rioxarray.open_rasterio(filepath_DF_ownership)\n",
    "\n",
    "process_ndvi_7(files7[0])\n",
    "#process_ndvi_8(files8)"
   ]
  },
  {
   "cell_type": "code",
   "execution_count": 109,
   "id": "c2df8f52-71f8-4b96-9164-fb9a6bd18897",
   "metadata": {},
   "outputs": [
    {
     "name": "stdout",
     "output_type": "stream",
     "text": [
      "<xarray.DataArray (band: 1, y: 876, x: 570)>\n",
      "[499320 values with dtype=float32]\n",
      "Coordinates:\n",
      "  * band         (band) int64 1\n",
      "  * x            (x) float64 4.458e+05 4.458e+05 ... 4.628e+05 4.629e+05\n",
      "  * y            (y) float64 4.749e+06 4.749e+06 ... 4.722e+06 4.722e+06\n",
      "    spatial_ref  int64 0\n",
      "Attributes:\n",
      "    RepresentationType:  ATHEMATIC\n",
      "    _FillValue:          -3.4028234663852886e+38\n",
      "    scale_factor:        1.0\n",
      "    add_offset:          0.0\n"
     ]
    }
   ],
   "source": [
    "print(df_mask)"
   ]
  },
  {
   "cell_type": "code",
   "execution_count": null,
   "id": "9e665c8a-d5b4-419d-9dd5-c5d4086298f9",
   "metadata": {},
   "outputs": [],
   "source": []
  }
 ],
 "metadata": {
  "kernelspec": {
   "display_name": "Python 3 (ipykernel)",
   "language": "python",
   "name": "python3"
  },
  "language_info": {
   "codemirror_mode": {
    "name": "ipython",
    "version": 3
   },
   "file_extension": ".py",
   "mimetype": "text/x-python",
   "name": "python",
   "nbconvert_exporter": "python",
   "pygments_lexer": "ipython3",
   "version": "3.8.12"
  }
 },
 "nbformat": 4,
 "nbformat_minor": 5
}
