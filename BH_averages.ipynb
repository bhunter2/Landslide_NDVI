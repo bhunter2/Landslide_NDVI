{
 "cells": [
  {
   "cell_type": "code",
   "execution_count": 1,
   "id": "157092c5-9131-4b2c-8445-5fb2c481a2b6",
   "metadata": {},
   "outputs": [],
   "source": [
    "# Import packages\n",
    "from osgeo import gdal\n",
    "import os\n",
    "import glob\n",
    "import pandas as pd\n",
    "\n",
    "import matplotlib.pyplot as plt\n",
    "#from mpl_toolkits.axes_grid1 import make_axes_locatabl\n",
    "import numpy as np\n",
    "import rasterio\n",
    "import xarray\n",
    "import rioxarray\n",
    "import datetime"
   ]
  },
  {
   "cell_type": "code",
   "execution_count": 2,
   "id": "771cf369-67dc-42ab-b10d-4a63c81337f8",
   "metadata": {},
   "outputs": [],
   "source": [
    "# Define filepaths\n",
    "filepath7 = 'E:/GitHub/GEOG_L7/'\n",
    "filepath8 = 'E:/GitHub/GEOG_L8/'\n",
    "filepath_DF_mask = 'E:/GitHub/test_DF_area1_32610.tif'\n",
    "filepath_DF_ownership = 'E:/GitHub/test_Ownership_DF_32610.tif'\n",
    "\n",
    "# Define list of Landsat bands\n",
    "files7 = sorted(glob.glob(filepath7 + '*.tif'))\n",
    "files8 = sorted(glob.glob(filepath8 + '*.tif'))"
   ]
  },
  {
   "cell_type": "markdown",
   "id": "ffd6451d",
   "metadata": {},
   "source": [
    "## Below are functions to create NDVI images from the landsat tifs. Since landsat7 and landsat 8 use different bands to calculate NDVI we created two functions \n",
    "\n",
    "**process_ndvi_7** and **process_ndvi_8**"
   ]
  },
  {
   "cell_type": "code",
   "execution_count": 3,
   "id": "b7b1ca7e-1948-4ac1-9f34-270d73267d2a",
   "metadata": {},
   "outputs": [],
   "source": [
    "def process_ndvi_7(file):\n",
    "    #strip name from filepath for later\n",
    "    name = file  #.split(\"/\")[-1]\n",
    "    savename = file[-24:]\n",
    "    #print(name\n",
    "    #print(savename)\n",
    "    xds = rioxarray.open_rasterio(file)\n",
    "    \n",
    "    #select band 4 and 3 from landsat 7 tif\n",
    "    band4 = xds.sel(band=1)\n",
    "    band3 = xds.sel(band=2)\n",
    "    #band2 = xds.sel(band=3)\n",
    "    \n",
    "    # Compute NDVI\n",
    "    ndvi = np.divide((band4 - band3), (band4 + band3))\n",
    "    \n",
    "    # clip to shape of Douglas Fire\n",
    "    clipped_ndvi = ndvi.where(df_mask == 1)\n",
    "    clipped_ndvi = clipped_ndvi.transpose('band', 'y', 'x')\n",
    "    \n",
    "    clipped_ndvi.rio.to_raster(\"E:/GitHub/landsat_ndvi/ndvi_\"+savename)\n",
    "    \n",
    "def process_ndvi_8(file):\n",
    "    name = file #.split(\"/\")[-1]\n",
    "    savename = file[-24:]\n",
    "    #print(name)\n",
    "    #print(savename)\n",
    "    xds = rioxarray.open_rasterio(file)\n",
    "    \n",
    "    band5 = xds.sel(band=1)\n",
    "    band4 = xds.sel(band=2)\n",
    "    #band3 = xds.sel(band=3)\n",
    "    \n",
    "    # Compute NDVI\n",
    "    #p.seterr(divide='ignore', invalid='ignore')\n",
    "    ndvi = np.divide((band5 - band4), (band5 + band4))\n",
    "                   \n",
    "    # clip to shape of Douglas Fire\n",
    "    clipped_ndvi = ndvi.where(df_mask == 1)\n",
    "    clipped_ndvi = clipped_ndvi.transpose('band', 'y', 'x')               \n",
    "    \n",
    "    clipped_ndvi.rio.to_raster(\"E:/GitHub/landsat_ndvi/ndvi_\"+savename)"
   ]
  },
  {
   "cell_type": "code",
   "execution_count": 4,
   "id": "6b71f885-2939-41ce-9b3b-ea4ac041a70b",
   "metadata": {},
   "outputs": [],
   "source": [
    "df_mask = rioxarray.open_rasterio(filepath_DF_mask)\n",
    "df_ownership = rioxarray.open_rasterio(filepath_DF_ownership)"
   ]
  },
  {
   "cell_type": "code",
   "execution_count": 5,
   "id": "cd7269cb-67aa-43d0-a057-4ed8f9597047",
   "metadata": {},
   "outputs": [],
   "source": [
    "for file in files7:\n",
    "    process_ndvi_7(file)\n",
    "\n",
    "for file in files8:\n",
    "    process_ndvi_8(file)"
   ]
  },
  {
   "cell_type": "markdown",
   "id": "388c8824-0137-46cf-bf2f-eec9d0598158",
   "metadata": {},
   "source": [
    "Next task: apply ownership mask, and make either boxplot of each option for each image OR resample time if the plot is too messy AND/OR don't do boxplots, instead do scatter plot with standard deviation or something around each point?"
   ]
  },
  {
   "cell_type": "code",
   "execution_count": 6,
   "id": "9e665c8a-d5b4-419d-9dd5-c5d4086298f9",
   "metadata": {},
   "outputs": [],
   "source": [
    "def create_timeseries(files):\n",
    "    times = []\n",
    "    for name in files:\n",
    "        times.append(name.split(\"_\")[-1].split(\".\")[0])\n",
    "        \n",
    "    dates = []    \n",
    "    for date in times:\n",
    "        # format\n",
    "        format = '%Y%m%d'\n",
    "\n",
    "        # convert from string format to datetime format\n",
    "        datetime_var = datetime.datetime.strptime(date, format)\n",
    "\n",
    "        # get the date from the datetime using date()\n",
    "        dates.append(datetime_var.date())\n",
    "    return dates\n",
    "        \n",
    "\n",
    "def analyze_ownership(file):\n",
    "    ndvi = rioxarray.open_rasterio(file)\n",
    "    t = ndvi.squeeze(drop=True, axis=0)\n",
    "    \n",
    "    # 1 = private, 0 = BLM\n",
    "    private_ndvi = ndvi.where(df_ownership == 1)\n",
    "    private_ndvi = private_ndvi.squeeze(drop=True, axis=0)\n",
    "    \n",
    "    blm_ndvi = ndvi.where(df_ownership == 0)\n",
    "    blm_ndvi = blm_ndvi.squeeze(drop=True, axis=0)\n",
    "    \n",
    "    return private_ndvi.values.flatten(), blm_ndvi.values.flatten()"
   ]
  },
  {
   "cell_type": "code",
   "execution_count": 7,
   "id": "510453f5-ab65-4e45-8188-9f18c5b9cc45",
   "metadata": {},
   "outputs": [],
   "source": [
    "filepath_ndvi = 'E:/GitHub/landsat_ndvi/'\n",
    "files_ndvi = sorted(glob.glob(filepath_ndvi + '*.tif'))\n",
    "\n",
    "times = create_timeseries(files_ndvi)\n",
    "times.sort()"
   ]
  },
  {
   "cell_type": "code",
   "execution_count": null,
   "id": "2a418447",
   "metadata": {},
   "outputs": [],
   "source": [
    "times"
   ]
  },
  {
   "cell_type": "code",
   "execution_count": 8,
   "id": "47bd26db-b4e2-49bc-9bdf-70126c1e704e",
   "metadata": {},
   "outputs": [],
   "source": [
    "ownership_flattened_priv = []\n",
    "ownership_flattened_blm = []\n",
    "\n",
    "for file in files_ndvi:\n",
    "    priv, blm = analyze_ownership(file)\n",
    "    ownership_flattened_priv.append(priv)\n",
    "    ownership_flattened_blm.append(blm)"
   ]
  },
  {
   "cell_type": "code",
   "execution_count": 9,
   "id": "5ae4363b-4684-4584-b4c9-fb5160ba71ee",
   "metadata": {},
   "outputs": [],
   "source": [
    "for ii in range(len(ownership_flattened_priv)):\n",
    "    ownership_flattened_priv[ii] = ownership_flattened_priv[ii][~np.isnan(ownership_flattened_priv[ii])]\n",
    "for ii in range(len(ownership_flattened_blm)):\n",
    "    ownership_flattened_blm[ii] = ownership_flattened_blm[ii][~np.isnan(ownership_flattened_blm[ii])]"
   ]
  },
  {
   "cell_type": "code",
   "execution_count": 46,
   "id": "fe67328d",
   "metadata": {},
   "outputs": [
    {
     "data": {
      "text/plain": [
       "[datetime.date(2011, 8, 23),\n",
       " datetime.date(2012, 5, 5),\n",
       " datetime.date(2012, 6, 6),\n",
       " datetime.date(2012, 7, 8),\n",
       " datetime.date(2012, 7, 24),\n",
       " datetime.date(2012, 8, 25),\n",
       " datetime.date(2013, 6, 1),\n",
       " datetime.date(2013, 6, 17),\n",
       " datetime.date(2013, 7, 3),\n",
       " datetime.date(2013, 7, 19),\n",
       " datetime.date(2013, 8, 4),\n",
       " datetime.date(2013, 8, 20),\n",
       " datetime.date(2014, 6, 4),\n",
       " datetime.date(2014, 7, 6),\n",
       " datetime.date(2014, 8, 7),\n",
       " datetime.date(2014, 8, 23),\n",
       " datetime.date(2015, 6, 7),\n",
       " datetime.date(2015, 8, 26),\n",
       " datetime.date(2016, 6, 25),\n",
       " datetime.date(2016, 7, 11),\n",
       " datetime.date(2016, 7, 27),\n",
       " datetime.date(2016, 8, 12),\n",
       " datetime.date(2016, 8, 28),\n",
       " datetime.date(2017, 5, 27),\n",
       " datetime.date(2017, 7, 14),\n",
       " datetime.date(2017, 7, 30),\n",
       " datetime.date(2017, 8, 31),\n",
       " datetime.date(2018, 5, 14),\n",
       " datetime.date(2018, 7, 1),\n",
       " datetime.date(2018, 7, 17),\n",
       " datetime.date(2018, 8, 2),\n",
       " datetime.date(2018, 8, 18),\n",
       " datetime.date(2019, 5, 1),\n",
       " datetime.date(2019, 6, 2),\n",
       " datetime.date(2019, 6, 18),\n",
       " datetime.date(2019, 7, 4),\n",
       " datetime.date(2019, 7, 20),\n",
       " datetime.date(2019, 8, 5),\n",
       " datetime.date(2020, 6, 4),\n",
       " datetime.date(2020, 7, 22),\n",
       " datetime.date(2020, 8, 7),\n",
       " datetime.date(2020, 8, 23),\n",
       " datetime.date(2021, 6, 23),\n",
       " datetime.date(2021, 7, 9),\n",
       " datetime.date(2021, 7, 25),\n",
       " datetime.date(2021, 8, 10),\n",
       " datetime.date(2021, 8, 26)]"
      ]
     },
     "execution_count": 46,
     "metadata": {},
     "output_type": "execute_result"
    }
   ],
   "source": [
    "June = [] #JuneJulyAugust = []\n",
    "PrivJJ = []\n",
    "BLMJJ = []\n",
    "indJJ = []\n",
    "for day in times:\n",
    "    #print(day)\n",
    "    if day.month == 5 or day.month == 6 or day.month == 7 or day.month == 8:\n",
    "        June.append(day)\n",
    "        PrivJJ.append(ownership_flattened_priv[times.index(datetime.date(day.year, day.month, day.day))])\n",
    "        BLMJJ.append(ownership_flattened_blm[times.index(datetime.date(day.year, day.month, day.day))])\n",
    "        indJJ.append(times.index(datetime.date(day.year, day.month, day.day)))\n",
    "June"
   ]
  },
  {
   "cell_type": "code",
   "execution_count": 47,
   "id": "17f18779",
   "metadata": {},
   "outputs": [
    {
     "name": "stdout",
     "output_type": "stream",
     "text": [
      "0.2055807\n",
      "0.2159232\n"
     ]
    }
   ],
   "source": [
    "#calculate average for june/july prior to the burn\n",
    "listtoavgPRIV = []\n",
    "listtoavgBLM = []\n",
    "for step in June:\n",
    "    if step.year < 2013:\n",
    "        meanP = PrivJJ[June.index(datetime.date(step.year, step.month, step.day))].mean()\n",
    "        meanB = BLMJJ[June.index(datetime.date(step.year, step.month, step.day))].mean()\n",
    "        listtoavgPRIV.append(meanP)\n",
    "        listtoavgBLM.append(meanB)\n",
    "        \n",
    "meanPriv = np.mean(listtoavgPRIV)\n",
    "print(meanPriv)\n",
    "\n",
    "meanBLM = np.mean(listtoavgBLM)\n",
    "print(meanBLM)"
   ]
  },
  {
   "cell_type": "code",
   "execution_count": 48,
   "id": "eafc1683",
   "metadata": {},
   "outputs": [],
   "source": [
    "dndvi_priv = []\n",
    "dndvi_blm = []\n",
    "# for ts in PrivJJ:\n",
    "#     dndvi_ts = np.divide((ts- meanPriv),meanPriv)*100\n",
    "#     dndvi_priv.append(dndvi_ts)\n",
    "    \n",
    "# for ts in BLMJJ:\n",
    "#     dndvi_ts =np.divide((ts- meanBLM),meanBLM)*100\n",
    "#     dndvi_blm.append(dndvi_ts)\n",
    "\n",
    "for ts in PrivJJ:\n",
    "    meants = ts.mean()\n",
    "    dndvi_ts = np.divide((meants- meanPriv),meanPriv)*100\n",
    "    dndvi_priv.append(dndvi_ts)\n",
    "    \n",
    "for ts in BLMJJ:\n",
    "    meants = ts.mean()\n",
    "    dndvi_ts =np.divide((meants- meanBLM),meanBLM)*100\n",
    "    dndvi_blm.append(dndvi_ts)"
   ]
  },
  {
   "cell_type": "code",
   "execution_count": 51,
   "id": "9d92f19e",
   "metadata": {},
   "outputs": [
    {
     "data": {
      "text/plain": [
       "[<matplotlib.lines.Line2D at 0x220c58a0190>]"
      ]
     },
     "execution_count": 51,
     "metadata": {},
     "output_type": "execute_result"
    },
    {
     "data": {
      "image/png": "[encoded data removed]",
      "text/plain": [
       "<Figure size 648x432 with 1 Axes>"
      ]
     },
     "metadata": {
      "needs_background": "light"
     },
     "output_type": "display_data"
    }
   ],
   "source": [
    "plt.figure(figsize = (9,6))\n",
    "plt.plot(June, dndvi_priv, 'red')\n",
    "plt.plot(June, dndvi_blm, 'blue')"
   ]
  },
  {
   "cell_type": "code",
   "execution_count": 52,
   "id": "3e9ace6c",
   "metadata": {},
   "outputs": [
    {
     "data": {
      "text/plain": [
       "[<matplotlib.lines.Line2D at 0x220c5900b20>]"
      ]
     },
     "execution_count": 52,
     "metadata": {},
     "output_type": "execute_result"
    },
    {
     "data": {
      "image/png": "[encoded data removed]",
      "text/plain": [
       "<Figure size 648x432 with 1 Axes>"
      ]
     },
     "metadata": {
      "needs_background": "light"
     },
     "output_type": "display_data"
    }
   ],
   "source": [
    "diff = np.array(dndvi_blm) - np.array(dndvi_priv)\n",
    "plt.figure(figsize = (9,6))\n",
    "plt.plot(June, diff, 'black')"
   ]
  },
  {
   "cell_type": "code",
   "execution_count": null,
   "id": "afa9d5ba",
   "metadata": {},
   "outputs": [],
   "source": []
  },
  {
   "cell_type": "code",
   "execution_count": null,
   "id": "e2f7d2ba",
   "metadata": {},
   "outputs": [],
   "source": [
    "def set_box_color(bp, color):\n",
    "    plt.setp(bp['boxes'], color=color)\n",
    "    plt.setp(bp['whiskers'], color=color)\n",
    "    plt.setp(bp['caps'], color=color)\n",
    "    plt.setp(bp['medians'], color=color)\n",
    "\n",
    "plt.figure(figsize=(12, 30))\n",
    "\n",
    "# vert = 0 for vertical boxplot, also switch y and x options\n",
    "bppriv = plt.boxplot(dndvi_priv, positions=np.array(range(len(dndvi_priv)))*2.0-0.4, sym='', widths=0.6, vert = 0, showmeans=True, meanline=True)\n",
    "bpblm = plt.boxplot(dndvi_blm, positions=np.array(range(len(dndvi_blm)))*2.0+0.4, sym='', widths=0.6, vert = 0, showmeans=True, meanline=True)\n",
    "set_box_color(bppriv, '#D7191C') # colors are from http://colorbrewer2.org/\n",
    "set_box_color(bpblm, '#2C7BB6')\n",
    "\n",
    "# draw temporary red and blue lines and use them to create a legend\n",
    "plt.plot([], c='#D7191C', label='Private')\n",
    "plt.plot([], c='#2C7BB6', label='BLM')\n",
    "plt.legend()\n",
    "\n",
    "plt.yticks(range(0, len(June) * 2, 2), June)\n",
    "plt.ylim(len(June)*2,-2)\n",
    "plt.ylabel('Time')\n",
    "plt.xlabel('NDVI Value')\n",
    "plt.title('NDVI Change Detection from pre- to post- 2013 Douglas Complex Fire')\n",
    "plt.tight_layout()\n",
    "#plt.savefig('boxcompare.png')"
   ]
  },
  {
   "cell_type": "code",
   "execution_count": null,
   "id": "db622cfb",
   "metadata": {},
   "outputs": [],
   "source": []
  },
  {
   "cell_type": "code",
   "execution_count": null,
   "id": "50a51f5f",
   "metadata": {},
   "outputs": [],
   "source": [
    "def set_box_color(bp, color):\n",
    "    plt.setp(bp['boxes'], color=color)\n",
    "    plt.setp(bp['whiskers'], color=color)\n",
    "    plt.setp(bp['caps'], color=color)\n",
    "    plt.setp(bp['medians'], color=color)\n",
    "\n",
    "plt.figure(figsize=(12, 20))\n",
    "\n",
    "# vert = 0 for vertical boxplot, also switch y and x options\n",
    "bppriv = plt.boxplot(PrivJJ, positions=np.array(range(len(PrivJJ)))*2.0-0.4, sym='', widths=0.6, vert = 0, showmeans=True, meanline=True)\n",
    "bpblm = plt.boxplot(BLMJJ, positions=np.array(range(len(BLMJJ)))*2.0+0.4, sym='', widths=0.6, vert = 0, showmeans=True, meanline=True)\n",
    "set_box_color(bppriv, '#D7191C') # colors are from http://colorbrewer2.org/\n",
    "set_box_color(bpblm, '#2C7BB6')\n",
    "\n",
    "# draw temporary red and blue lines and use them to create a legend\n",
    "plt.plot([], c='#D7191C', label='Private')\n",
    "plt.plot([], c='#2C7BB6', label='BLM')\n",
    "plt.legend()\n",
    "\n",
    "plt.yticks(range(0, len(June) * 2, 2), June)\n",
    "plt.ylim(len(June)*2,-2)\n",
    "plt.ylabel('Time')\n",
    "plt.xlabel('NDVI Value')\n",
    "plt.title('NDVI Change Detection from pre- to post- 2013 Douglas Complex Fire')\n",
    "plt.tight_layout()\n",
    "#plt.savefig('boxcompare.png')"
   ]
  },
  {
   "cell_type": "code",
   "execution_count": null,
   "id": "9e455c57-568c-46fc-9f6f-63a0c1f4f20a",
   "metadata": {},
   "outputs": [],
   "source": [
    "def set_box_color(bp, color):\n",
    "    plt.setp(bp['boxes'], color=color)\n",
    "    plt.setp(bp['whiskers'], color=color)\n",
    "    plt.setp(bp['caps'], color=color)\n",
    "    plt.setp(bp['medians'], color=color)\n",
    "\n",
    "plt.figure(figsize=(12, 30))\n",
    "\n",
    "# vert = 0 for vertical boxplot, also switch y and x options\n",
    "bppriv = plt.boxplot(ownership_flattened_priv, positions=np.array(range(len(ownership_flattened_priv)))*2.0-0.4, sym='', widths=0.6, vert = 0, showmeans=True, meanline=True)\n",
    "bpblm = plt.boxplot(ownership_flattened_blm, positions=np.array(range(len(ownership_flattened_blm)))*2.0+0.4, sym='', widths=0.6, vert = 0, showmeans=True, meanline=True)\n",
    "set_box_color(bppriv, '#D7191C') # colors are from http://colorbrewer2.org/\n",
    "set_box_color(bpblm, '#2C7BB6')\n",
    "\n",
    "# draw temporary red and blue lines and use them to create a legend\n",
    "plt.plot([], c='#D7191C', label='Private')\n",
    "plt.plot([], c='#2C7BB6', label='BLM')\n",
    "plt.legend()\n",
    "\n",
    "plt.yticks(range(0, len(times) * 2, 2), times)\n",
    "plt.ylim(len(times)*2,-2)\n",
    "plt.ylabel('Time')\n",
    "plt.xlabel('NDVI Value')\n",
    "plt.title('NDVI Change Detection from pre- to post- 2013 Douglas Complex Fire')\n",
    "plt.tight_layout()\n",
    "#plt.savefig('boxcompare.png')"
   ]
  },
  {
   "cell_type": "code",
   "execution_count": null,
   "id": "5ade77bf-d8bd-47e8-bbe7-f774d086e97d",
   "metadata": {},
   "outputs": [],
   "source": [
    "plt.figure(figsize=(30, 12))\n",
    "\n",
    "bppriv = plt.boxplot(ownership_flattened_priv, positions=np.array(range(len(ownership_flattened_priv)))*2.0-0.4, sym='', widths=0.6, showmeans=True, meanline=True)\n",
    "bpblm = plt.boxplot(ownership_flattened_blm, positions=np.array(range(len(ownership_flattened_blm)))*2.0+0.4, sym='', widths=0.6, showmeans=True, meanline=True)\n",
    "set_box_color(bppriv, '#D7191C') # colors are from http://colorbrewer2.org/\n",
    "set_box_color(bpblm, '#2C7BB6')\n",
    "\n",
    "# draw temporary red and blue lines and use them to create a legend\n",
    "plt.plot([], c='#D7191C', label='Private')\n",
    "plt.plot([], c='#2C7BB6', label='BLM')\n",
    "plt.legend()\n",
    "\n",
    "plt.xticks(range(0, len(times) * 2, 2), times)\n",
    "plt.xlim(-2,len(times)*2)\n",
    "plt.xticks(rotation=90)\n",
    "plt.xlabel('Time', fontsize=20)\n",
    "plt.ylabel('NDVI Value', fontsize=20)\n",
    "plt.title('NDVI Change Detection from pre- to post- 2013 Douglas Complex Fire', fontsize=22)\n",
    "plt.tight_layout()\n",
    "#plt.savefig('boxcompare_horz.svg')"
   ]
  },
  {
   "cell_type": "code",
   "execution_count": null,
   "id": "c0415b29",
   "metadata": {},
   "outputs": [],
   "source": [
    "#currently subscripted for horizontal boxplots. Change first subscript from 1 -> 0 to do vertical\n",
    "means_priv = [list(item.get_data()[1])[0] for item in bppriv['means']]\n",
    "means_blm = [list(item.get_data()[1])[0] for item in bpblm['means']]\n",
    "q1_priv = [list(item.get_data()[1])[0] for item in bppriv['boxes']]\n",
    "q3_priv = [list(item.get_data()[1])[2] for item in bppriv['boxes']]\n",
    "q1_blm = [list(item.get_data()[1])[0] for item in bpblm['boxes']]\n",
    "q3_blm = [list(item.get_data()[1])[2] for item in bpblm['boxes']]"
   ]
  },
  {
   "cell_type": "code",
   "execution_count": null,
   "id": "c6aec503",
   "metadata": {},
   "outputs": [],
   "source": [
    "plt.figure(figsize=(10, 15))\n",
    "\n",
    "x = np.arange(0, len(times[19:]))\n",
    "\n",
    "z1 = np.polyfit(x, means_priv[19:], 1)\n",
    "p1 = np.poly1d(z1)\n",
    "plt.plot(p1(x), x, c='#D7191C')\n",
    "         \n",
    "z2 = np.polyfit(x, means_blm[19:], 1)\n",
    "p2 = np.poly1d(z2)\n",
    "plt.plot(p2(x), x, c='#2C7BB6')\n",
    "\n",
    "\n",
    "zq1priv = np.polyfit(x, q1_priv[19:], 1)\n",
    "pq1priv = np.poly1d(zq1priv)\n",
    "         \n",
    "zq3priv = np.polyfit(x, q3_priv[19:], 1)\n",
    "pq3priv = np.poly1d(zq3priv)\n",
    "\n",
    "zq1blm = np.polyfit(x, q1_blm[19:], 1)\n",
    "pq1blm = np.poly1d(zq1blm)\n",
    "         \n",
    "zq3blm = np.polyfit(x, q3_blm[19:], 1)\n",
    "pq3blm = np.poly1d(zq3blm)\n",
    "\n",
    "plt.fill_between(x, pq1priv(x), pq3priv(x), color='#D7191C', alpha=0.2)\n",
    "plt.fill_between(x, pq1blm(x), pq3blm(x), color='#2C7BB6', alpha=0.2)\n",
    "\n",
    "\n",
    "# draw temporary red and blue lines and use them to create a legend\n",
    "plt.plot([], c='#D7191C', label='Private: %s' %(str(p1)))\n",
    "plt.plot([], c='#2C7BB6', label='BLM: %s' %(str(p2)))\n",
    "plt.legend()\n",
    "\n",
    "plt.yticks(x, times[19:]);\n",
    "plt.ylim(len(times[19:]),-2);\n",
    "plt.ylabel('Time')\n",
    "plt.xlabel('Mean NDVI Value')\n",
    "plt.title('NDVI Recovery Trend Post-Fire')\n",
    "plt.tight_layout()"
   ]
  },
  {
   "cell_type": "code",
   "execution_count": null,
   "id": "21e0a47f",
   "metadata": {},
   "outputs": [],
   "source": [
    "plt.figure(figsize=(15, 10))\n",
    "\n",
    "x = np.arange(0, len(times[19:]))\n",
    "\n",
    "z1 = np.polyfit(x, means_priv[19:], 1)\n",
    "p1 = np.poly1d(z1)\n",
    "plt.plot(x, p1(x), c='#D7191C')\n",
    "         \n",
    "z2 = np.polyfit(x, means_blm[19:], 1)\n",
    "p2 = np.poly1d(z2)\n",
    "plt.plot(x, p2(x), c='#2C7BB6')\n",
    "\n",
    "zq1priv = np.polyfit(x, q1_priv[19:], 1)\n",
    "pq1priv = np.poly1d(zq1priv)\n",
    "         \n",
    "zq3priv = np.polyfit(x, q3_priv[19:], 1)\n",
    "pq3priv = np.poly1d(zq3priv)\n",
    "\n",
    "zq1blm = np.polyfit(x, q1_blm[19:], 1)\n",
    "pq1blm = np.poly1d(zq1blm)\n",
    "         \n",
    "zq3blm = np.polyfit(x, q3_blm[19:], 1)\n",
    "pq3blm = np.poly1d(zq3blm)\n",
    "\n",
    "plt.fill_between(x, pq1priv(x), pq3priv(x), color='#D7191C', alpha=0.2)\n",
    "plt.fill_between(x, pq1blm(x), pq3blm(x), color='#2C7BB6', alpha=0.2)\n",
    "\n",
    "# draw temporary red and blue lines and use them to create a legend\n",
    "plt.plot([], c='#D7191C', label='Private: %s' %(str(p1)))\n",
    "plt.plot([], c='#2C7BB6', label='BLM: %s' %(str(p2)))\n",
    "plt.legend()\n",
    "\n",
    "plt.xticks(x, times[19:]);\n",
    "plt.xlim(-2,len(times[19:]));\n",
    "plt.xticks(rotation=90)\n",
    "plt.xlabel('Time', fontsize=18)\n",
    "plt.ylabel('Mean NDVI Value', fontsize=18)\n",
    "plt.title('NDVI Recovery Trend Post-Fire', fontsize=20)\n",
    "plt.tight_layout()\n",
    "#plt.savefig('trendlines_horz.svg')"
   ]
  },
  {
   "cell_type": "code",
   "execution_count": null,
   "id": "2030d6b1",
   "metadata": {},
   "outputs": [],
   "source": []
  }
 ],
 "metadata": {
  "kernelspec": {
   "display_name": "Python 3 (ipykernel)",
   "language": "python",
   "name": "python3"
  },
  "language_info": {
   "codemirror_mode": {
    "name": "ipython",
    "version": 3
   },
   "file_extension": ".py",
   "mimetype": "text/x-python",
   "name": "python",
   "nbconvert_exporter": "python",
   "pygments_lexer": "ipython3",
   "version": "3.8.12"
  }
 },
 "nbformat": 4,
 "nbformat_minor": 5
}
